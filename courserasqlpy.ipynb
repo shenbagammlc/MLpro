{
  "nbformat": 4,
  "nbformat_minor": 0,
  "metadata": {
    "colab": {
      "provenance": [],
      "authorship_tag": "ABX9TyMYalfTOMc6fMT0A0t2VuTD",
      "include_colab_link": true
    },
    "kernelspec": {
      "name": "python3",
      "display_name": "Python 3"
    },
    "language_info": {
      "name": "python"
    }
  },
  "cells": [
    {
      "cell_type": "markdown",
      "metadata": {
        "id": "view-in-github",
        "colab_type": "text"
      },
      "source": [
        "<a href=\"https://colab.research.google.com/github/shenbagammlc/MLpro/blob/main/courserasqlpy.ipynb\" target=\"_parent\"><img src=\"https://colab.research.google.com/assets/colab-badge.svg\" alt=\"Open In Colab\"/></a>"
      ]
    },
    {
      "cell_type": "code",
      "execution_count": null,
      "metadata": {
        "colab": {
          "base_uri": "https://localhost:8080/"
        },
        "id": "5zzoG6gmsNhZ",
        "outputId": "c65077af-e3ae-453f-ecf8-5d796c357c83"
      },
      "outputs": [
        {
          "output_type": "stream",
          "name": "stdout",
          "text": [
            "\u001b[31mERROR: Could not find a version that satisfies the requirement sqlite3 (from versions: none)\u001b[0m\u001b[31m\n",
            "\u001b[0m\u001b[31mERROR: No matching distribution found for sqlite3\u001b[0m\u001b[31m\n",
            "\u001b[0m"
          ]
        },
        {
          "output_type": "execute_result",
          "data": {
            "text/plain": [
              "<function Connection.commit()>"
            ]
          },
          "metadata": {},
          "execution_count": 11
        }
      ],
      "source": [
        "#sql lite connect\n",
        "!pip install sqlite3\n",
        "import sqlite3\n",
        "\n",
        "#var name = sqlite3connect\n",
        "Connection=sqlite3.connect('db.sqlite')\n",
        "\n",
        "cursor=Connection.cursor()\n",
        "\n",
        "cursor.execute('''\n",
        "   CREATE TABLE users123 (\n",
        "    id INTEGER PRIMARY KEY,\n",
        "    name TEXT,\n",
        "    email TEXT\n",
        "  )\n",
        "''')\n",
        "Connection.commit()\n",
        "\n",
        "\n",
        "or\n",
        "\n",
        "import sqlite3\n",
        "\n",
        "conn = sqlite3.connect('db.sqlite')\n",
        "\n",
        "\n",
        "\n",
        "table='CREATE TABLE users (id INTEGER PRIMARY KEY,  name TEXT, email TEXT )'\n",
        "cursor = conn.cursor()\n",
        "cursor.execute(table)\n",
        "\n",
        "\n",
        "conn.commit()"
      ]
    },
    {
      "cell_type": "code",
      "source": [
        "# Insert data\n",
        "\n",
        "cursor.execute('''\n",
        "  INSERT INTO users (name, email)\n",
        "  VALUES (?, ?)\n",
        "''', ('John Doe', 'john@email.com'))\n",
        "\n",
        "conn.commit()"
      ],
      "metadata": {
        "id": "FqDVQf_uFZpU"
      },
      "execution_count": null,
      "outputs": []
    },
    {
      "cell_type": "code",
      "source": [
        "# Create table\n",
        "\n",
        "import sqlite3\n",
        "\n",
        "conn = sqlite3.connect('db.sqlite')\n",
        "\n",
        "cursor = conn.cursor()\n",
        "\n",
        "cursor.execute('''\n",
        "  CREATE TABLE usersswwb (\n",
        "    id INTEGER PRIMARY KEY,\n",
        "    name TEXT,\n",
        "    email TEXT\n",
        "  )\n",
        "''')\n",
        "\n",
        "conn.commit()\n",
        "\n",
        "# Insert data\n",
        "\n",
        "cursor.execute('''\n",
        "  INSERT INTO users (name, email)\n",
        "  VALUES (?, ?)\n",
        "''', ('John Doe', 'john@email.com'))\n",
        "\n",
        "conn.commit()\n",
        "\n",
        "# Query table\n",
        "\n",
        "cursor.execute('''\n",
        "  SELECT * FROM usersswwb\n",
        "''')\n",
        "\n",
        "for row in cursor:\n",
        "  print(row)"
      ],
      "metadata": {
        "id": "gulrNz52FvV6"
      },
      "execution_count": null,
      "outputs": []
    },
    {
      "cell_type": "code",
      "source": [
        "!pip install faker\n",
        "from faker import Faker\n",
        "fake=Faker()"
      ],
      "metadata": {
        "colab": {
          "base_uri": "https://localhost:8080/"
        },
        "id": "D1ObopKjFy5E",
        "outputId": "0bcb01b5-3097-4ae8-a9e1-fd4e15fb50f1"
      },
      "execution_count": null,
      "outputs": [
        {
          "output_type": "stream",
          "name": "stdout",
          "text": [
            "Requirement already satisfied: faker in /usr/local/lib/python3.10/dist-packages (28.4.1)\n",
            "Requirement already satisfied: python-dateutil>=2.4 in /usr/local/lib/python3.10/dist-packages (from faker) (2.8.2)\n",
            "Requirement already satisfied: six>=1.5 in /usr/local/lib/python3.10/dist-packages (from python-dateutil>=2.4->faker) (1.16.0)\n"
          ]
        }
      ]
    },
    {
      "cell_type": "code",
      "source": [
        "names=[fake.name().split() for i in range(10)]\n",
        "names=[name for name in names if len(name)==2]\n",
        "names"
      ],
      "metadata": {
        "colab": {
          "base_uri": "https://localhost:8080/"
        },
        "id": "c0fuPBE5IBca",
        "outputId": "1cc377f6-f9cc-4acd-f5b6-06124baa57a1"
      },
      "execution_count": null,
      "outputs": [
        {
          "output_type": "execute_result",
          "data": {
            "text/plain": [
              "[['Rebecca', 'Campbell'],\n",
              " ['Stephanie', 'Perez'],\n",
              " ['Angela', 'Lopez'],\n",
              " ['Ashley', 'Richards'],\n",
              " ['James', 'Noble'],\n",
              " ['Carol', 'Moore'],\n",
              " ['Nathan', 'King'],\n",
              " ['Frank', 'Lowe'],\n",
              " ['Anthony', 'Reed'],\n",
              " ['Dawn', 'Hardin']]"
            ]
          },
          "metadata": {},
          "execution_count": 30
        }
      ]
    },
    {
      "cell_type": "code",
      "source": [
        "conn=sqlite3.connect('smaple.db')\n",
        "cursor=conn.cursor()\n",
        "insert_query='INSERT INTO usersswb (name,email) VALUES (?,?)'\n",
        "\n",
        "for name in names:\n",
        "    cursor.execute(insert_query,name)\n",
        "conn.commit()\n"
      ],
      "metadata": {
        "colab": {
          "base_uri": "https://localhost:8080/",
          "height": 193
        },
        "collapsed": true,
        "id": "JCnlrrwwIUcl",
        "outputId": "114c4f9b-2810-4711-f97c-c9221f2a0bf1"
      },
      "execution_count": null,
      "outputs": [
        {
          "output_type": "error",
          "ename": "OperationalError",
          "evalue": "no such table: usersswb",
          "traceback": [
            "\u001b[0;31m---------------------------------------------------------------------------\u001b[0m",
            "\u001b[0;31mOperationalError\u001b[0m                          Traceback (most recent call last)",
            "\u001b[0;32m<ipython-input-31-d4b89567b5a7>\u001b[0m in \u001b[0;36m<cell line: 5>\u001b[0;34m()\u001b[0m\n\u001b[1;32m      4\u001b[0m \u001b[0;34m\u001b[0m\u001b[0m\n\u001b[1;32m      5\u001b[0m \u001b[0;32mfor\u001b[0m \u001b[0mname\u001b[0m \u001b[0;32min\u001b[0m \u001b[0mnames\u001b[0m\u001b[0;34m:\u001b[0m\u001b[0;34m\u001b[0m\u001b[0;34m\u001b[0m\u001b[0m\n\u001b[0;32m----> 6\u001b[0;31m     \u001b[0mcursor\u001b[0m\u001b[0;34m.\u001b[0m\u001b[0mexecute\u001b[0m\u001b[0;34m(\u001b[0m\u001b[0minsert_query\u001b[0m\u001b[0;34m,\u001b[0m\u001b[0mname\u001b[0m\u001b[0;34m)\u001b[0m\u001b[0;34m\u001b[0m\u001b[0;34m\u001b[0m\u001b[0m\n\u001b[0m\u001b[1;32m      7\u001b[0m \u001b[0mconn\u001b[0m\u001b[0;34m.\u001b[0m\u001b[0mcommit\u001b[0m\u001b[0;34m(\u001b[0m\u001b[0;34m)\u001b[0m\u001b[0;34m\u001b[0m\u001b[0;34m\u001b[0m\u001b[0m\n",
            "\u001b[0;31mOperationalError\u001b[0m: no such table: usersswb"
          ]
        }
      ]
    },
    {
      "cell_type": "code",
      "source": [
        "select_query='SELECT * FROM userswwb'\n",
        "cursor.execute(select_query)\n",
        "for row in cursor:\n",
        "    print(row)"
      ],
      "metadata": {
        "id": "k7o9bI2PIpc8"
      },
      "execution_count": null,
      "outputs": []
    },
    {
      "cell_type": "code",
      "source": [
        "\n",
        "select_query='SELECT * FROM userswwb'\n",
        "for i in cursor.execute(select_query):\n",
        "  print(i)"
      ],
      "metadata": {
        "id": "dh9OfFR5IpZY"
      },
      "execution_count": null,
      "outputs": []
    },
    {
      "cell_type": "code",
      "source": [],
      "metadata": {
        "id": "TWVHPMNHIpWR"
      },
      "execution_count": null,
      "outputs": []
    }
  ]
}