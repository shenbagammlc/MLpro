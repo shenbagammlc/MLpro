{
  "nbformat": 4,
  "nbformat_minor": 0,
  "metadata": {
    "colab": {
      "provenance": [],
      "authorship_tag": "ABX9TyOYigzA2L/9NgokULUBkBde",
      "include_colab_link": true
    },
    "kernelspec": {
      "name": "python3",
      "display_name": "Python 3"
    },
    "language_info": {
      "name": "python"
    }
  },
  "cells": [
    {
      "cell_type": "markdown",
      "metadata": {
        "id": "view-in-github",
        "colab_type": "text"
      },
      "source": [
        "<a href=\"https://colab.research.google.com/github/shenbagammlc/MLpro/blob/main/pantechpython.ipynb\" target=\"_parent\"><img src=\"https://colab.research.google.com/assets/colab-badge.svg\" alt=\"Open In Colab\"/></a>"
      ]
    },
    {
      "cell_type": "code",
      "execution_count": null,
      "metadata": {
        "id": "-XC1B3Zq9Z01"
      },
      "outputs": [],
      "source": [
        "#to create a file 22/8/24\n"
      ]
    },
    {
      "cell_type": "code",
      "source": [
        "def file_create():\n",
        "  f=open(\"pantechlearning.txt\",'w')\n",
        "  f.write(\"\"\"welcome to world of joy and happinesss,\n",
        "  eeeee,\n",
        "  edeeeeeeeeeeeeeegeb,\n",
        "  eheuhp9d8yehduiyhp9,.\"\"\")\n",
        "  f.close()\n",
        "  f=open(\"pantechlearning.txt\",'r')\n",
        "  print(f.read())\n",
        "file_create()"
      ],
      "metadata": {
        "colab": {
          "base_uri": "https://localhost:8080/"
        },
        "id": "WM30pyIbAtSZ",
        "outputId": "7c6b7158-00e6-443b-a7e7-a7e8027cfc10"
      },
      "execution_count": null,
      "outputs": [
        {
          "output_type": "stream",
          "name": "stdout",
          "text": [
            "welcome to world of joy and happinesss,\n",
            "  eeeee,\n",
            "  edeeeeeeeeeeeeeegeb,\n",
            "  eheuhp9d8yehduiyhp9,.\n"
          ]
        }
      ]
    },
    {
      "cell_type": "code",
      "source": [
        "#from ast import arguments\n",
        "#arguments\n",
        "\"\"\"information can be passed func as arguments\n",
        "arguments are specified after the function name inside the parentheses\n",
        "can add more arguments by adding a comma\"\"\"\n",
        "\n",
        "def hello_name(name):\n",
        "  print(\"hello \"+name)\n",
        "hello_name(\"joy\")\n",
        "hello_name(\"kk\")"
      ],
      "metadata": {
        "colab": {
          "base_uri": "https://localhost:8080/"
        },
        "id": "3TNH-a3iAtP1",
        "outputId": "74eb19e9-e658-44e1-b5af-56f40c092509"
      },
      "execution_count": null,
      "outputs": [
        {
          "output_type": "stream",
          "name": "stdout",
          "text": [
            "hello joy\n",
            "hello kk\n"
          ]
        }
      ]
    },
    {
      "cell_type": "code",
      "source": [
        "\n",
        "name=\" \"\n",
        "get=name+ \"upper\"\n",
        "print(f'heloo mr {get} probvide')\n",
        "\n"
      ],
      "metadata": {
        "colab": {
          "base_uri": "https://localhost:8080/"
        },
        "id": "w_PHDCfbAtM-",
        "outputId": "3cd5616c-dd67-4010-9ab7-c7648056b1ee"
      },
      "execution_count": null,
      "outputs": [
        {
          "output_type": "stream",
          "name": "stdout",
          "text": [
            "heloo mr  upper probvide\n"
          ]
        }
      ]
    },
    {
      "cell_type": "code",
      "source": [
        "def my_function(fname):\n",
        "  print(fname + \" Refsnes\")\n",
        "\n",
        "my_function(\"Emil\")\n",
        "my_function(\"Tobias\")\n",
        "my_function(\"Linus\")"
      ],
      "metadata": {
        "colab": {
          "base_uri": "https://localhost:8080/"
        },
        "id": "G9TaabQjAtId",
        "outputId": "86ec4106-0612-4a04-e587-09b88dc8cc2f"
      },
      "execution_count": null,
      "outputs": [
        {
          "output_type": "stream",
          "name": "stdout",
          "text": [
            "Emil Refsnes\n",
            "Tobias Refsnes\n",
            "Linus Refsnes\n"
          ]
        }
      ]
    },
    {
      "cell_type": "code",
      "source": [],
      "metadata": {
        "id": "f4qF0b6dG9WB"
      },
      "execution_count": null,
      "outputs": []
    },
    {
      "cell_type": "code",
      "source": [],
      "metadata": {
        "id": "ssr0hT29G9Sg"
      },
      "execution_count": null,
      "outputs": []
    },
    {
      "cell_type": "code",
      "source": [],
      "metadata": {
        "id": "zkbJ1407G9PH"
      },
      "execution_count": null,
      "outputs": []
    }
  ]
}